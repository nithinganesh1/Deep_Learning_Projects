{
 "cells": [
  {
   "cell_type": "markdown",
   "id": "e65a0f2f-2789-404d-9fe5-7e08bd845b9c",
   "metadata": {},
   "source": [
    "## Data Labeling using Labelme"
   ]
  },
  {
   "cell_type": "code",
   "execution_count": 2,
   "id": "848b1c86-d6e1-4e73-aa0e-bee195fd7bdd",
   "metadata": {},
   "outputs": [],
   "source": [
    "import labelme"
   ]
  },
  {
   "cell_type": "code",
   "execution_count": 6,
   "id": "37a20b78-2da5-499b-8002-792bc5d05599",
   "metadata": {},
   "outputs": [
    {
     "name": "stdout",
     "output_type": "stream",
     "text": [
      "Help on package labelme:\n",
      "\n",
      "NAME\n",
      "    labelme - # flake8: noqa\n",
      "\n",
      "PACKAGE CONTENTS\n",
      "    __main__\n",
      "    ai (package)\n",
      "    app\n",
      "    cli (package)\n",
      "    config (package)\n",
      "    label_file\n",
      "    logger\n",
      "    shape\n",
      "    testing\n",
      "    utils (package)\n",
      "    widgets (package)\n",
      "\n",
      "DATA\n",
      "    PY2 = False\n",
      "    PY3 = True\n",
      "    QT4 = False\n",
      "    QT5 = True\n",
      "    __appname__ = 'labelme'\n",
      "\n",
      "VERSION\n",
      "    5.4.1\n",
      "\n",
      "FILE\n",
      "    c:\\users\\hp\\anaconda3\\lib\\site-packages\\labelme\\__init__.py\n",
      "\n",
      "\n"
     ]
    }
   ],
   "source": []
  },
  {
   "cell_type": "code",
   "execution_count": null,
   "id": "3cb21383-4c3f-484e-bb48-43dee10248ed",
   "metadata": {},
   "outputs": [],
   "source": []
  }
 ],
 "metadata": {
  "kernelspec": {
   "display_name": "Python 3 (ipykernel)",
   "language": "python",
   "name": "python3"
  },
  "language_info": {
   "codemirror_mode": {
    "name": "ipython",
    "version": 3
   },
   "file_extension": ".py",
   "mimetype": "text/x-python",
   "name": "python",
   "nbconvert_exporter": "python",
   "pygments_lexer": "ipython3",
   "version": "3.11.5"
  }
 },
 "nbformat": 4,
 "nbformat_minor": 5
}
